{
  "nbformat": 4,
  "nbformat_minor": 0,
  "metadata": {
    "colab": {
      "provenance": [],
      "authorship_tag": "ABX9TyMMB1b7py4TcGLFbAmF7JOr",
      "include_colab_link": true
    },
    "kernelspec": {
      "name": "python3",
      "display_name": "Python 3"
    },
    "language_info": {
      "name": "python"
    }
  },
  "cells": [
    {
      "cell_type": "markdown",
      "metadata": {
        "id": "view-in-github",
        "colab_type": "text"
      },
      "source": [
        "<a href=\"https://colab.research.google.com/github/ecturgut/textblob_Example/blob/main/textBlob.ipynb\" target=\"_parent\"><img src=\"https://colab.research.google.com/assets/colab-badge.svg\" alt=\"Open In Colab\"/></a>"
      ]
    },
    {
      "cell_type": "code",
      "source": [
        "from textblob import TextBlob"
      ],
      "metadata": {
        "id": "hh0K7tbu6FYx"
      },
      "execution_count": null,
      "outputs": []
    },
    {
      "cell_type": "code",
      "source": [
        "sentence1 = TextBlob(\"I love myself :)\")\n",
        "sentence2 = TextBlob(\"I hate all things in the world!\")\n",
        "sentence3 = TextBlob(\"Covid is a global virus.\")"
      ],
      "metadata": {
        "id": "XbsoXaF56lud"
      },
      "execution_count": null,
      "outputs": []
    },
    {
      "cell_type": "code",
      "source": [
        "print(sentence1.sentiment)\n",
        "print(sentence2.sentiment)\n",
        "print(sentence3.sentiment)"
      ],
      "metadata": {
        "id": "zwjcqwQM6l5H",
        "colab": {
          "base_uri": "https://localhost:8080/"
        },
        "outputId": "d4f22e2e-2baf-4707-a040-56f99f4ed105"
      },
      "execution_count": null,
      "outputs": [
        {
          "output_type": "stream",
          "name": "stdout",
          "text": [
            "Sentiment(polarity=0.5, subjectivity=0.8)\n",
            "Sentiment(polarity=-1.0, subjectivity=0.9)\n",
            "Sentiment(polarity=0.0, subjectivity=0.0)\n"
          ]
        }
      ]
    },
    {
      "cell_type": "code",
      "source": [
        "print(\"İlk cumle: \", sentence1.sentiment.polarity)\n",
        "print(\"İkinci cumle: \", sentence2.sentiment.polarity)\n",
        "print(\"Üçüncü cumle: \", sentence3.sentiment.polarity)"
      ],
      "metadata": {
        "colab": {
          "base_uri": "https://localhost:8080/"
        },
        "id": "2Zu7zYMyEG6l",
        "outputId": "9a3d4d02-f792-4dc1-b318-d021de6bff71"
      },
      "execution_count": null,
      "outputs": [
        {
          "output_type": "stream",
          "name": "stdout",
          "text": [
            "İlk cumle:  0.5\n",
            "İkinci cumle:  -1.0\n",
            "Üçüncü cumle:  0.0\n"
          ]
        }
      ]
    }
  ]
}